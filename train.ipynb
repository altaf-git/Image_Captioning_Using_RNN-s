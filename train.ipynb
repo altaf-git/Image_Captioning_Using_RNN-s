{
 "cells": [
  {
   "cell_type": "code",
   "execution_count": 14,
   "metadata": {},
   "outputs": [
    {
     "data": {
      "application/vnd.jupyter.widget-view+json": {
       "model_id": "9eb2d8bffae44596a231d10b3c32fac3",
       "version_major": 2,
       "version_minor": 0
      },
      "text/plain": [
       "HBox(children=(IntProgress(value=1, bar_style='info', max=1), HTML(value='')))"
      ]
     },
     "metadata": {},
     "output_type": "display_data"
    },
    {
     "name": "stdout",
     "output_type": "stream",
     "text": [
      "\n"
     ]
    }
   ],
   "source": [
    "import string\n",
    "import numpy as np\n",
    "from PIL import Image\n",
    "import os\n",
    "from pickle import dump,load\n",
    "import tensorflow as tf\n",
    "from tensorflow.keras.applications.xception import Xception,preprocess_input\n",
    "from tensorflow.keras.preprocessing.image import load_img,img_to_array\n",
    "from tensorflow.keras.preprocessing.text import Tokenizer\n",
    "from tensorflow.keras.preprocessing.sequence import pad_sequences\n",
    "from tensorflow.keras.utils import to_categorical\n",
    "from tensorflow.keras.layers import add\n",
    "from tensorflow.keras.models import Model,load_model\n",
    "from tensorflow.keras.layers import Input,Dense,LSTM,Embedding,Dropout\n",
    "from tqdm import tqdm_notebook as tqdm\n",
    "tqdm().pandas()"
   ]
  },
  {
   "cell_type": "code",
   "execution_count": 15,
   "metadata": {},
   "outputs": [],
   "source": [
    "def load_doc(filename):\n",
    "    file=open(filename,'r')\n",
    "    text=file.read()\n",
    "    file.close()\n",
    "    return text"
   ]
  },
  {
   "cell_type": "code",
   "execution_count": 16,
   "metadata": {},
   "outputs": [],
   "source": [
    "def get_captions(filename):\n",
    "    file=load_doc(filename)\n",
    "    captions=file.split('\\n')\n",
    "    descriptions={}\n",
    "    for caption in captions[:-1]:\n",
    "        img,caption=caption.split('\\t')\n",
    "        if img[:-2] not in descriptions:\n",
    "            descriptions[img[:-2]]=[caption]\n",
    "        else:\n",
    "            descriptions[img[:-2]].append(caption)\n",
    "    return descriptions        "
   ]
  },
  {
   "cell_type": "code",
   "execution_count": 17,
   "metadata": {},
   "outputs": [],
   "source": [
    "def clean_text(captions):\n",
    "    table=str.maketrans('','',string.punctuation)\n",
    "    for img,caps in captions.items():\n",
    "        for i,img_caption in enumerate(caps):\n",
    "            img_caption.replace(\"-\",\" \")\n",
    "            desc=img_caption.split()\n",
    "            \n",
    "            #lowering Cases \n",
    "            desc=[word.lower() for word in desc]\n",
    "            \n",
    "            #removing punctuations\n",
    "            desc=[word.translate(table) for word in desc]\n",
    "            \n",
    "            #removing hanging 's and a'\n",
    "            desc=[word for word in desc if(len(word)>1)]\n",
    "            \n",
    "            #removing tokens with number in them\n",
    "            desc=[word for word in desc if(word.isalpha())]\n",
    "            \n",
    "            #converting back to string \n",
    "            img_caption=' '.join(desc)\n",
    "            captions[img][i]=img_caption\n",
    "    return captions"
   ]
  },
  {
   "cell_type": "code",
   "execution_count": 18,
   "metadata": {},
   "outputs": [],
   "source": [
    "def text_vocabulary(descriptions):\n",
    "    #build vocabulary in all unique words\n",
    "    vocab=set()\n",
    "    for key in descriptions.keys():\n",
    "        [vocab.update(d.split()) for d in descriptions[key]]\n",
    "    return vocab    "
   ]
  },
  {
   "cell_type": "code",
   "execution_count": 19,
   "metadata": {},
   "outputs": [],
   "source": [
    "def save_descriptions(descriptions,filename):\n",
    "    lines=list()\n",
    "    for key,desc_list in descriptions.items():\n",
    "        for desc in desc_list:\n",
    "            lines.append(key+'\\t'+desc)\n",
    "    data='\\n'.join(lines)\n",
    "    file=open(filename,\"w\")\n",
    "    file.write(data)\n",
    "    file.close()"
   ]
  },
  {
   "cell_type": "code",
   "execution_count": 29,
   "metadata": {},
   "outputs": [],
   "source": [
    "dataset_text=\"/home/altaf/Documents/Image_Captioning_Using_RNNs/Flickr_Data/Flickr_TextData\"\n",
    "dataset_images=\"/home/altaf/Documents/Image_Captioning_Using_RNNs/Flickr_Data/Images\""
   ]
  },
  {
   "cell_type": "code",
   "execution_count": 32,
   "metadata": {},
   "outputs": [
    {
     "name": "stdout",
     "output_type": "stream",
     "text": [
      "Length of descriptions= 8092\n",
      "Length of Vocabulary= 8763\n"
     ]
    }
   ],
   "source": [
    "#preparing the text data\n",
    "filename=dataset_text+\"/\"+\"Flickr8k.token.txt\"\n",
    "#loading the file containing all datas\n",
    "#mapping them into descriptions dictionary img to 5 captions\n",
    "descriptions=get_captions(filename)\n",
    "print(\"Length of descriptions=\",len(descriptions))\n",
    "#cleaning description\n",
    "clean_descriptions=clean_text(descriptions)\n",
    "#building Vocabulary\n",
    "vocabulary=text_vocabulary(clean_descriptions)\n",
    "print(\"Length of Vocabulary=\",len(vocabulary))\n",
    "#saving each description to file\n",
    "save_descriptions(clean_descriptions,\"descriptions.txt\")\n"
   ]
  },
  {
   "cell_type": "code",
   "execution_count": 46,
   "metadata": {},
   "outputs": [],
   "source": [
    "def extract_features(directory):\n",
    "        model = Xception( include_top=False, pooling='avg' )\n",
    "        features = {}\n",
    "        for img in tqdm(os.listdir(directory)):\n",
    "            filename = directory + \"/\" + img\n",
    "            image = Image.open(filename)\n",
    "            image = image.resize((299,299))\n",
    "            image = np.expand_dims(image, axis=0)\n",
    "            #image = preprocess_input(image)\n",
    "            image = image/127.5\n",
    "            image = image - 1.0\n",
    "            \n",
    "            feature = model.predict(image)\n",
    "            features[img] = feature\n",
    "        return features"
   ]
  },
  {
   "cell_type": "code",
   "execution_count": 47,
   "metadata": {},
   "outputs": [
    {
     "data": {
      "application/vnd.jupyter.widget-view+json": {
       "model_id": "b34137894d47442a998015060711d532",
       "version_major": 2,
       "version_minor": 0
      },
      "text/plain": [
       "HBox(children=(IntProgress(value=0, max=8091), HTML(value='')))"
      ]
     },
     "metadata": {},
     "output_type": "display_data"
    }
   ],
   "source": [
    "#feature Vector\n",
    "#features=extract_features(dataset_images)\n",
    "#dump(features,open(\"features.p\",\"wb\"))"
   ]
  },
  {
   "cell_type": "code",
   "execution_count": 48,
   "metadata": {},
   "outputs": [],
   "source": [
    "features=load(open(\"features.p\",\"rb\"))"
   ]
  },
  {
   "cell_type": "code",
   "execution_count": 68,
   "metadata": {},
   "outputs": [],
   "source": [
    "#loading data\n",
    "def load_photos(filename):\n",
    "    file=load_doc(filename)\n",
    "    photos=file.split(\"\\n\")[:-1]\n",
    "    return photos\n",
    "def load_clean_descriptions(filename, photos):   \n",
    "    #loading clean_descriptions\n",
    "    file = load_doc(filename)\n",
    "    descriptions = {}\n",
    "    for line in file.split(\"\\n\"):\n",
    "        words = line.split()\n",
    "        if len(words)<1 :\n",
    "            continue\n",
    "        image, image_caption = words[0], words[1:]\n",
    "        \n",
    "        if image in photos:\n",
    "            if image not in descriptions:\n",
    "                descriptions[image] = []\n",
    "            desc = '<start> ' + \" \".join(image_caption) + ' <end>'\n",
    "            descriptions[image].append(desc)\n",
    "\n",
    "    return descriptions\n",
    "def load_features(photo):\n",
    "    all_features=load(open(\"features.p\",\"rb\"))\n",
    "    #selecting only needed features\n",
    "    features={k:all_features[k] for k in photo}\n",
    "    return features"
   ]
  },
  {
   "cell_type": "code",
   "execution_count": 69,
   "metadata": {},
   "outputs": [],
   "source": [
    "filename=dataset_text+\"/\"+\"Flickr_8k.trainImages.txt\"\n",
    "train_imgs=load_photos(filename)\n",
    "train_descriptions=load_clean_descriptions(\"descriptions.txt\",train_imgs)\n",
    "train_features=load_features(train_imgs)"
   ]
  },
  {
   "cell_type": "code",
   "execution_count": 70,
   "metadata": {},
   "outputs": [
    {
     "data": {
      "text/plain": [
       "6000"
      ]
     },
     "execution_count": 70,
     "metadata": {},
     "output_type": "execute_result"
    }
   ],
   "source": [
    "len(train_descriptions)"
   ]
  },
  {
   "cell_type": "code",
   "execution_count": 71,
   "metadata": {},
   "outputs": [],
   "source": [
    "def dict_to_list(descriptions):\n",
    "    all_desc = []\n",
    "    for key in descriptions.keys():\n",
    "        [all_desc.append(d) for d in descriptions[key]]\n",
    "    return all_desc\n",
    "#creating tokenizer class this will vectorize text corpus\n",
    "#each Integer will represent token in dictionary\n",
    "from tensorflow.keras.preprocessing.text import Tokenizer\n",
    "def create_tokenizer(descriptions):\n",
    "    desc_list = dict_to_list(descriptions)\n",
    "    tokenizer = Tokenizer()\n",
    "    tokenizer.fit_on_texts(desc_list)\n",
    "    return tokenizer\n"
   ]
  },
  {
   "cell_type": "code",
   "execution_count": 72,
   "metadata": {},
   "outputs": [
    {
     "data": {
      "text/plain": [
       "7577"
      ]
     },
     "execution_count": 72,
     "metadata": {},
     "output_type": "execute_result"
    }
   ],
   "source": [
    "#each word is a Index so store it into tokenizer.p\n",
    "tokenizer = create_tokenizer(train_descriptions)\n",
    "dump(tokenizer, open('tokenizer.p', 'wb'))\n",
    "vocab_size = len(tokenizer.word_index) + 1\n",
    "vocab_size "
   ]
  },
  {
   "cell_type": "code",
   "execution_count": 73,
   "metadata": {},
   "outputs": [
    {
     "data": {
      "text/plain": [
       "32"
      ]
     },
     "execution_count": 73,
     "metadata": {},
     "output_type": "execute_result"
    }
   ],
   "source": [
    "def max_length(descriptions):\n",
    "    desc_list=dict_to_list(descriptions)\n",
    "    return max(len(d.split()) for d in desc_list)\n",
    "max_length=max_length(descriptions)\n",
    "max_length"
   ]
  },
  {
   "cell_type": "code",
   "execution_count": 74,
   "metadata": {},
   "outputs": [
    {
     "data": {
      "text/plain": [
       "array([0.35922778, 0.03271931, 0.03686453, ..., 0.13820367, 0.02857169,\n",
       "       0.3070938 ], dtype=float32)"
      ]
     },
     "execution_count": 74,
     "metadata": {},
     "output_type": "execute_result"
    }
   ],
   "source": [
    "features['1000268201_693b08cb0e.jpg'][0]"
   ]
  },
  {
   "cell_type": "code",
   "execution_count": 124,
   "metadata": {},
   "outputs": [],
   "source": [
    "def data_generator(descriptions,features,tokenizer,max_length):\n",
    "    while 1:\n",
    "        for key,description_list in descriptions.items():\n",
    "            #retreiving features\n",
    "            feature=features[key][0]\n",
    "            input_image,input_sequence,output_word=create_sequences(tokenizer,max_length,description_list,feature)\n",
    "            yield[[input_image,input_sequence],output_word]\n",
    "            \n",
    "def create_sequences(tokenizer,max_length,desc_list,feature):\n",
    "    X1,X2,y=list(),list(),list()\n",
    "    #walk through each description for the image\n",
    "    for desc in desc_list:\n",
    "        #encode the sequence\n",
    "        seq=tokenizer.texts_to_sequences([desc])[0]\n",
    "        #split one sequence into multiple X,y pairs\n",
    "        for i in range(1,len(seq)):\n",
    "            in_seq,out_seq=seq[:i],seq[i]\n",
    "            #pad input sequence\n",
    "            in_seq=pad_sequences([in_seq],maxlen=max_length)[0]\n",
    "            #encode output sequence\n",
    "            out_seq=to_categorical([out_seq],num_classes=vocab_size)[0]\n",
    "            #store\n",
    "            X1.append(feature)\n",
    "            X2.append(in_seq)\n",
    "            y.append(out_seq)\n",
    "    return np.array(X1),np.array(X2),np.array(y)\n",
    "\n",
    "            "
   ]
  },
  {
   "cell_type": "code",
   "execution_count": null,
   "metadata": {},
   "outputs": [],
   "source": []
  },
  {
   "cell_type": "code",
   "execution_count": 125,
   "metadata": {},
   "outputs": [
    {
     "data": {
      "text/plain": [
       "((47, 2048), (47, 32), (47, 7577))"
      ]
     },
     "execution_count": 125,
     "metadata": {},
     "output_type": "execute_result"
    }
   ],
   "source": [
    "[a,b],c=next(data_generator(train_descriptions,features,tokenizer,max_length))\n",
    "a.shape,b.shape,c.shape"
   ]
  },
  {
   "cell_type": "code",
   "execution_count": 126,
   "metadata": {},
   "outputs": [],
   "source": [
    "from tensorflow.keras.utils import plot_model\n",
    "#defining the captioning model\n",
    "def define_model(vocab_size,max_length):\n",
    "    #features from the CNN model squeezzzed from 2048 to 256 nodes\n",
    "    inputs1=Input(shape=(2048,))\n",
    "    fe1=Dropout(0.5)(inputs1)\n",
    "    fe2=Dense(256,activation='relu')(fe1)\n",
    "    #LSTM sequence model\n",
    "    inputs2=Input(shape=(max_length,))\n",
    "    se1=Embedding(vocab_size,256,mask_zero=True)(inputs2)\n",
    "    se2=Dropout(0.5)(se1)\n",
    "    se3=LSTM(256)(se2)\n",
    "    \n",
    "    #Merging both models\n",
    "    decoder1=add([fe2,se3])\n",
    "    decoder2=Dense(256,activation='relu')(decoder1)\n",
    "    outputs=Dense(vocab_size,activation='softmax')(decoder2)\n",
    "    \n",
    "    #tie it together [image,seq][word]\n",
    "    model=Model(inputs=[inputs1,inputs2],outputs=outputs)\n",
    "    model.compile(loss='categorical_crossentropy',optimizer='adam')\n",
    "    \n",
    "    #summarize model\n",
    "    print(model.summary())\n",
    "    #plot_model(model, to_file='model.png', show_shapes=True)\n",
    "    return model"
   ]
  },
  {
   "cell_type": "code",
   "execution_count": null,
   "metadata": {},
   "outputs": [],
   "source": [
    "#train our model\n",
    "print('Dataset: ', len(train_imgs))\n",
    "print('Descriptions: train=', len(train_descriptions))\n",
    "print('Photos: train=', len(train_features))\n",
    "print('Vocabulary Size:', vocab_size)\n",
    "print('Description Length: ', max_length)\n",
    "\n",
    "model = define_model(vocab_size, max_length)\n",
    "epochs = 10\n",
    "steps = len(train_descriptions)\n",
    "# making a directory models to save our models\n",
    "os.mkdir(\"models\")\n",
    "for i in range(epochs):\n",
    "    generator = data_generator(train_descriptions, train_features, tokenizer, max_length)\n",
    "    model.fit_generator(generator, epochs=1, steps_per_epoch= steps, verbose=1)\n",
    "    model.save(\"models/model_\" + str(i) + \".h5\")\n"
   ]
  },
  {
   "cell_type": "code",
   "execution_count": null,
   "metadata": {},
   "outputs": [],
   "source": []
  }
 ],
 "metadata": {
  "kernelspec": {
   "display_name": "Python 3",
   "language": "python",
   "name": "python3"
  },
  "language_info": {
   "codemirror_mode": {
    "name": "ipython",
    "version": 3
   },
   "file_extension": ".py",
   "mimetype": "text/x-python",
   "name": "python",
   "nbconvert_exporter": "python",
   "pygments_lexer": "ipython3",
   "version": "3.7.3"
  }
 },
 "nbformat": 4,
 "nbformat_minor": 2
}
